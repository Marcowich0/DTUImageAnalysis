{
 "cells": [
  {
   "cell_type": "code",
   "execution_count": 73,
   "metadata": {},
   "outputs": [
    {
     "name": "stdout",
     "output_type": "stream",
     "text": [
      "0.2914567944778671\n"
     ]
    }
   ],
   "source": [
    "import math\n",
    "a = 10\n",
    "b = 3\n",
    "theta = math.atan2(b, a)\n",
    "print(theta)"
   ]
  },
  {
   "cell_type": "code",
   "execution_count": 74,
   "metadata": {},
   "outputs": [
    {
     "name": "stdout",
     "output_type": "stream",
     "text": [
      "[0.01764706 0.01522843 0.01504514 0.01501502]\n"
     ]
    }
   ],
   "source": [
    "import numpy as np\n",
    "def camera_b_distance(f, g):\n",
    "    return np.array((1/f-1/g)**(-1))\n",
    "\n",
    "f = 15*10**(-3)\n",
    "g = np.array([0.1, 1, 5, 15])\n",
    "\n",
    "print(camera_b_distance(f, g))"
   ]
  },
  {
   "cell_type": "code",
   "execution_count": 75,
   "metadata": {},
   "outputs": [
    {
     "name": "stdout",
     "output_type": "stream",
     "text": [
      "1.8018018018018016 mm\n"
     ]
    }
   ],
   "source": [
    "f_lens = 5 * 10**(-3)\n",
    "h_thomas, g_thomas = 1.8, 5\n",
    "b_ccd = camera_b_distance(f_lens, g_thomas)\n",
    "h_ccd_thomas = h_thomas/g_thomas*b_ccd\n",
    "print(str(h_ccd_thomas*1000) + \" mm\")"
   ]
  },
  {
   "cell_type": "code",
   "execution_count": 79,
   "metadata": {},
   "outputs": [
    {
     "name": "stdout",
     "output_type": "stream",
     "text": [
      "height of a pixel: 0.009999999999999998 mm\n",
      "height of a pixel in thomas' image: 180.18018018018017 pixels\n",
      "horizontal field of view: 53.13010235415598 degrees\n",
      "vertical field of view: 41.11209043916693 degrees\n"
     ]
    }
   ],
   "source": [
    "h_ccd = 4.8 * 10**(-3)\n",
    "w_ccd = 6.4 * 10**(-3)\n",
    "res_w, res_h = 640, 480\n",
    "h_pixel = h_ccd/res_h\n",
    "print(f\"height of a pixel: {h_pixel*1000} mm\")\n",
    "h_thomas_pixel = h_ccd_thomas/h_pixel\n",
    "print(f\"height of a pixel in thomas' image: {h_thomas_pixel} pixels\")\n",
    "fov_h = 2*math.atan2(h_ccd/2, b_ccd)\n",
    "fov_w = 2*math.atan2(w_ccd/2, b_ccd)\n",
    "print(f\"horizontal field of view: {math.degrees(fov_w)} degrees\")\n",
    "print(f\"vertical field of view: {math.degrees(fov_h)} degrees\")\n"
   ]
  }
 ],
 "metadata": {
  "kernelspec": {
   "display_name": "course02502",
   "language": "python",
   "name": "python3"
  },
  "language_info": {
   "codemirror_mode": {
    "name": "ipython",
    "version": 3
   },
   "file_extension": ".py",
   "mimetype": "text/x-python",
   "name": "python",
   "nbconvert_exporter": "python",
   "pygments_lexer": "ipython3",
   "version": "3.9.19"
  }
 },
 "nbformat": 4,
 "nbformat_minor": 2
}
